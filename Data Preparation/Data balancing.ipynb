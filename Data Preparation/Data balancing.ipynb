{
 "cells": [
  {
   "cell_type": "markdown",
   "metadata": {},
   "source": [
    "# Data balancing\n",
    "Data balancing techniques are needed in the presence of unbalanced datasets - when the target variable doesn't have a uniform distribution, i.e. the classes are not equiprobable. In the case of binary classification, we usually call positive to the minority class, and negative to the majority one.\n",
    "\n",
    "We can follow two different strategies: undersampling and oversampling. The choice of each one of them, depends on the size of the dataset, i.e., the number of records to use as train:\n",
    "\n",
    "1. with a huge dataset, and consequently a considerable number of positve records, we can use an undersampling strategy, keeping the positive records and sampling the negative ones to balance the final distribution -\n",
    "2. In the presence of a small number of positive records, we need to appy oversampling, in order to create a larger set to support the training step. Among the different oversampling techniques we find SMOTE, one of the most interesting ones.\n",
    "\n",
    "Lets consider the unbalanced dataset, whose target is the Outcome variable, with two possible values: Active the minority class, and Inactive as the majority class. The following chart shows the original target distribution, and the following one the resulting distribution after applying each strategy.\n",
    "\n",
    "### Note: Although data balancing should be done only on the training set, on this file we are using the whole dataset since no classification will be necessary."
   ]
  },
  {
   "cell_type": "code",
   "execution_count": 42,
   "metadata": {},
   "outputs": [],
   "source": [
    "import pandas as pd\n",
    "import numpy as np\n",
    "import matplotlib.pyplot as plt\n",
    "from collections import Counter"
   ]
  },
  {
   "cell_type": "markdown",
   "metadata": {},
   "source": [
    "## Class Balance"
   ]
  },
  {
   "cell_type": "markdown",
   "metadata": {},
   "source": [
    "### Toxicity"
   ]
  },
  {
   "cell_type": "code",
   "execution_count": 9,
   "metadata": {
    "scrolled": true
   },
   "outputs": [
    {
     "data": {
      "image/png": "[encoded data removed]",
      "text/plain": [
       "<Figure size 432x288 with 1 Axes>"
      ]
     },
     "metadata": {
      "needs_background": "light"
     },
     "output_type": "display_data"
    },
    {
     "name": "stdout",
     "output_type": "stream",
     "text": [
      "Minority class: 741\n",
      "Majority class: 8251\n",
      "Proportion: 0.09 : 1\n"
     ]
    }
   ],
   "source": [
    "tox_target_count = data_tox['classification'].value_counts()\n",
    "plt.figure()\n",
    "plt.title('Class balance')\n",
    "plt.bar(tox_target_count.index, tox_target_count.values)\n",
    "plt.show()\n",
    "\n",
    "min_class = tox_target_count.idxmin()\n",
    "ind_min_class = tox_target_count.index.get_loc(min_class)\n",
    "\n",
    "print('Minority class:', tox_target_count[ind_min_class])\n",
    "print('Majority class:', tox_target_count[1-ind_min_class])\n",
    "print('Proportion:', round(tox_target_count[ind_min_class] / tox_target_count[1-ind_min_class], 2), ': 1')"
   ]
  },
  {
   "cell_type": "markdown",
   "metadata": {},
   "source": [
    "### Heart failure"
   ]
  },
  {
   "cell_type": "code",
   "execution_count": 8,
   "metadata": {},
   "outputs": [
    {
     "data": {
      "image/png": "[encoded data removed]",
      "text/plain": [
       "<Figure size 432x288 with 1 Axes>"
      ]
     },
     "metadata": {
      "needs_background": "light"
     },
     "output_type": "display_data"
    },
    {
     "name": "stdout",
     "output_type": "stream",
     "text": [
      "Minority class: 96\n",
      "Majority class: 203\n",
      "Proportion: 0.47 : 1\n"
     ]
    }
   ],
   "source": [
    "heart_target_count = data_heart['DEATH_EVENT'].value_counts()\n",
    "plt.figure()\n",
    "plt.title('Class balance')\n",
    "plt.bar(heart_target_count.index, heart_target_count.values)\n",
    "plt.show()\n",
    "\n",
    "min_class = heart_target_count.idxmin()\n",
    "ind_min_class = heart_target_count.index.get_loc(min_class)\n",
    "\n",
    "print('Minority class:', heart_target_count[ind_min_class])\n",
    "print('Majority class:', heart_target_count[1-ind_min_class])\n",
    "print('Proportion:', round(heart_target_count[ind_min_class] / heart_target_count[1-ind_min_class], 2), ': 1')"
   ]
  },
  {
   "cell_type": "markdown",
   "metadata": {},
   "source": [
    "## Under-sampling"
   ]
  },
  {
   "cell_type": "markdown",
   "metadata": {},
   "source": [
    "### NearMiss"
   ]
  },
  {
   "cell_type": "code",
   "execution_count": null,
   "metadata": {},
   "outputs": [],
   "source": [
    "from imblearn.under_sampling import NearMiss\n",
    "\n",
    "data_tox = pd.read_csv('../CD databases/qsar_oral_toxicity.csv')\n",
    "\n",
    "y_tox: np.ndarray = data_tox.pop('classification').values\n",
    "X_tox: np.ndarray = data_tox.values\n",
    "print('Original dataset shape %s' % Counter(y_tox))\n",
    "\n",
    "nm = NearMiss()\n",
    "X_tox1, y_tox1 = nm.fit_resample(X_tox, y_tox)\n",
    "print('Resampled dataset shape %s' % Counter(y_tox1))"
   ]
  },
  {
   "cell_type": "code",
   "execution_count": 44,
   "metadata": {},
   "outputs": [
    {
     "name": "stdout",
     "output_type": "stream",
     "text": [
      "Original dataset shape Counter({0: 203, 1: 96})\n",
      "Resampled dataset shape Counter({1: 96, 0: 70})\n"
     ]
    }
   ],
   "source": [
    "data_heart = pd.read_csv('../CD databases/heart_failure_clinical_records_dataset.csv')\n",
    "\n",
    "y_heart: np.ndarray = data_heart.pop('DEATH_EVENT').values\n",
    "X_heart: np.ndarray = data_heart.values\n",
    "print('Original dataset shape %s' % Counter(y_heart))\n",
    "\n",
    "nm = NearMiss()\n",
    "X_heart1, y_heart1 = nm.fit_resample(X_heart, y_heart)\n",
    "print('Resampled dataset shape %s' % Counter(y_heart1))"
   ]
  },
  {
   "cell_type": "markdown",
   "metadata": {},
   "source": [
    "### RandomUnderSampler"
   ]
  },
  {
   "cell_type": "code",
   "execution_count": 46,
   "metadata": {},
   "outputs": [
    {
     "name": "stdout",
     "output_type": "stream",
     "text": [
      "Original dataset shape Counter({'negative': 8251, 'positive': 741})\n",
      "Resampled dataset shape Counter({'negative': 741, 'positive': 741})\n"
     ]
    }
   ],
   "source": [
    "from imblearn.under_sampling import RandomUnderSampler\n",
    "\n",
    "data_tox = pd.read_csv('../CD databases/qsar_oral_toxicity.csv')\n",
    "\n",
    "y_tox: np.ndarray = data_tox.pop('classification').values\n",
    "X_tox: np.ndarray = data_tox.values\n",
    "print('Original dataset shape %s' % Counter(y_tox))\n",
    "\n",
    "rus = RandomUnderSampler(random_state=42)\n",
    "X_tox1, y_tox1 = rus.fit_resample(X_tox, y_tox)\n",
    "print('Resampled dataset shape %s' % Counter(y_tox1))"
   ]
  },
  {
   "cell_type": "code",
   "execution_count": 47,
   "metadata": {},
   "outputs": [
    {
     "name": "stdout",
     "output_type": "stream",
     "text": [
      "Original dataset shape Counter({0: 203, 1: 96})\n",
      "Resampled dataset shape Counter({0: 96, 1: 96})\n"
     ]
    }
   ],
   "source": [
    "data_heart = pd.read_csv('../CD databases/heart_failure_clinical_records_dataset.csv')\n",
    "\n",
    "y_heart: np.ndarray = data_heart.pop('DEATH_EVENT').values\n",
    "X_heart: np.ndarray = data_heart.values\n",
    "print('Original dataset shape %s' % Counter(y_heart))\n",
    "\n",
    "rus = RandomUnderSampler(random_state=42)\n",
    "X_heart1, y_heart1 = rus.fit_resample(X_heart, y_heart)\n",
    "print('Resampled dataset shape %s' % Counter(y_heart1))"
   ]
  },
  {
   "cell_type": "markdown",
   "metadata": {},
   "source": [
    "## Over-sampling"
   ]
  },
  {
   "cell_type": "markdown",
   "metadata": {},
   "source": [
    "### SMOTE"
   ]
  },
  {
   "cell_type": "code",
   "execution_count": 48,
   "metadata": {},
   "outputs": [
    {
     "name": "stdout",
     "output_type": "stream",
     "text": [
      "Original dataset shape Counter({'negative': 8251, 'positive': 741})\n",
      "Resampled dataset shape Counter({'negative': 8251, 'positive': 8251})\n"
     ]
    }
   ],
   "source": [
    "from imblearn.over_sampling import SMOTE\n",
    "\n",
    "data_tox = pd.read_csv('../CD databases/qsar_oral_toxicity.csv')\n",
    "\n",
    "y_tox: np.ndarray = data_tox.pop('classification').values\n",
    "X_tox: np.ndarray = data_tox.values\n",
    "print('Original dataset shape %s' % Counter(y_tox))\n",
    "\n",
    "sm = SMOTE(random_state=42)\n",
    "X_tox1, y_tox1 = sm.fit_resample(X_tox, y_tox)\n",
    "print('Resampled dataset shape %s' % Counter(y_tox1))"
   ]
  },
  {
   "cell_type": "code",
   "execution_count": 50,
   "metadata": {},
   "outputs": [
    {
     "name": "stdout",
     "output_type": "stream",
     "text": [
      "Original dataset shape Counter({0: 203, 1: 96})\n",
      "Resampled dataset shape Counter({1: 203, 0: 203})\n"
     ]
    }
   ],
   "source": [
    "data_heart = pd.read_csv('../CD databases/heart_failure_clinical_records_dataset.csv')\n",
    "\n",
    "y_heart: np.ndarray = data_heart.pop('DEATH_EVENT').values\n",
    "X_heart: np.ndarray = data_heart.values\n",
    "print('Original dataset shape %s' % Counter(y_heart))\n",
    "\n",
    "sm = SMOTE(random_state=42)\n",
    "X_heart1, y_heart1 = sm.fit_resample(X_heart, y_heart)\n",
    "print('Resampled dataset shape %s' % Counter(y_heart1))"
   ]
  },
  {
   "cell_type": "markdown",
   "metadata": {},
   "source": [
    "### RandomOverSampler"
   ]
  },
  {
   "cell_type": "code",
   "execution_count": 51,
   "metadata": {},
   "outputs": [
    {
     "name": "stdout",
     "output_type": "stream",
     "text": [
      "Original dataset shape Counter({'negative': 8251, 'positive': 741})\n",
      "Resampled dataset shape Counter({'negative': 8251, 'positive': 8251})\n"
     ]
    }
   ],
   "source": [
    "from imblearn.over_sampling import RandomOverSampler\n",
    "\n",
    "data_tox = pd.read_csv('../CD databases/qsar_oral_toxicity.csv')\n",
    "\n",
    "y_tox: np.ndarray = data_tox.pop('classification').values\n",
    "X_tox: np.ndarray = data_tox.values\n",
    "print('Original dataset shape %s' % Counter(y_tox))\n",
    "\n",
    "ros = RandomOverSampler(random_state=42)\n",
    "X_tox1, y_tox1 = ros.fit_resample(X_tox, y_tox)\n",
    "print('Resampled dataset shape %s' % Counter(y_tox1))"
   ]
  },
  {
   "cell_type": "code",
   "execution_count": 52,
   "metadata": {},
   "outputs": [
    {
     "name": "stdout",
     "output_type": "stream",
     "text": [
      "Original dataset shape Counter({0: 203, 1: 96})\n",
      "Resampled dataset shape Counter({1: 203, 0: 203})\n"
     ]
    }
   ],
   "source": [
    "data_heart = pd.read_csv('../CD databases/heart_failure_clinical_records_dataset.csv')\n",
    "\n",
    "y_heart: np.ndarray = data_heart.pop('DEATH_EVENT').values\n",
    "X_heart: np.ndarray = data_heart.values\n",
    "print('Original dataset shape %s' % Counter(y_heart))\n",
    "\n",
    "ros = RandomOverSampler(random_state=42)\n",
    "X_heart1, y_heart1 = ros.fit_resample(X_heart, y_heart)\n",
    "print('Resampled dataset shape %s' % Counter(y_heart1))"
   ]
  }
 ],
 "metadata": {
  "kernelspec": {
   "display_name": "Python 3",
   "language": "python",
   "name": "python3"
  }
 },
 "nbformat": 4,
 "nbformat_minor": 2
}

{
 "cells": [
  {
   "cell_type": "markdown",
   "metadata": {},
   "source": [
    "The techniques for feature selection in machine learning can be broadly classified into the following categories:\n",
    "\n",
    "### Supervised Techniques: \n",
    "These techniques can be used for labeled data, and are used to identify the relevant features for increasing the efficiency of supervised models like classification and regression.\n",
    "\n",
    "### Unsupervised Techniques: \n",
    "These techniques can be used for unlabeled data."
   ]
  },
  {
   "cell_type": "code",
   "execution_count": 24,
   "metadata": {},
   "outputs": [],
   "source": [
    "import pandas as pd\n",
    "import numpy as np\n",
    "\n",
    "data_tox: pd.DataFrame = pd.read_csv('../CD databases/qsar_oral_toxicity.csv')\n",
    "data_heart: pd.DataFrame = pd.read_csv('../CD databases/heart_failure_clinical_records_dataset.csv')"
   ]
  },
  {
   "cell_type": "markdown",
   "metadata": {},
   "source": []
  },
  {
   "cell_type": "markdown",
   "metadata": {},
   "source": [
    "### Chi-square Test (supervised)\n",
    "Ideal for categorical target"
   ]
  },
  {
   "cell_type": "code",
   "execution_count": 25,
   "metadata": {},
   "outputs": [
    {
     "name": "stdout",
     "output_type": "stream",
     "text": [
      "Original feature number:  1024\n",
      "Reduced feature number:  200\n"
     ]
    }
   ],
   "source": [
    "from sklearn.feature_selection import SelectKBest, chi2\n",
    "\n",
    "y_tox: np.ndarray = data_tox.pop('classification').values\n",
    "X_tox: np.ndarray = data_tox.values\n",
    "\n",
    "best_vars_tox = SelectKBest(chi2, k=200).fit_transform(X_tox, y_tox)\n",
    "\n",
    "print('Original feature number: ', X_tox.shape[1])\n",
    "print('Reduced feature number: ', best_vars_tox.shape[1])"
   ]
  },
  {
   "cell_type": "code",
   "execution_count": 26,
   "metadata": {},
   "outputs": [
    {
     "name": "stdout",
     "output_type": "stream",
     "text": [
      "Original feature number:  12\n",
      "Reduced feature number:  5\n"
     ]
    }
   ],
   "source": [
    "y_heart: np.ndarray = data_heart.pop('DEATH_EVENT').values\n",
    "X_heart: np.ndarray = data_heart.values\n",
    "    \n",
    "best_vars_heart = SelectKBest(chi2, k=5).fit_transform(X_heart, y_heart)\n",
    "\n",
    "print('Original feature number: ', X_heart.shape[1])\n",
    "print('Reduced feature number: ', best_vars_heart.shape[1])"
   ]
  },
  {
   "cell_type": "markdown",
   "metadata": {},
   "source": [
    "### Variance Threshold (unsupervised)\n",
    "The variance threshold is a simple baseline approach to feature selection. It removes all features which variance doesn’t meet some threshold. By default, it removes all zero-variance features, i.e., features that have the same value in all samples. We assume that features with a higher variance may contain more useful information"
   ]
  },
  {
   "cell_type": "code",
   "execution_count": 33,
   "metadata": {},
   "outputs": [
    {
     "name": "stdout",
     "output_type": "stream",
     "text": [
      "Original feature number:  12\n",
      "Reduced feature number:  7\n"
     ]
    }
   ],
   "source": [
    "from sklearn.feature_selection import VarianceThreshold\n",
    "\n",
    "th = VarianceThreshold(threshold=0.8)\n",
    "#tox_high_variance = th.fit_transform(data_tox)\n",
    "heart_high_variance = th.fit_transform(data_heart)\n",
    "\n",
    "print('Original feature number: ', X_heart.shape[1])\n",
    "print('Reduced feature number: ', heart_high_variance.shape[1])"
   ]
  },
  {
   "cell_type": "markdown",
   "metadata": {},
   "source": [
    "### Correlation Coefficient (unsupervised)\n",
    "If two variables are correlated, we can predict one from the other. Therefore, if two features are correlated, the model only really needs one of them, as the second one does not add additional information."
   ]
  },
  {
   "cell_type": "code",
   "execution_count": 36,
   "metadata": {},
   "outputs": [
    {
     "name": "stdout",
     "output_type": "stream",
     "text": [
      "144\n"
     ]
    }
   ],
   "source": [
    "from pandas.plotting import register_matplotlib_converters\n",
    "\n",
    "register_matplotlib_converters()\n",
    "tox_data = pd.read_csv('../CD databases/qsar_oral_toxicity.csv')\n",
    "\n",
    "corr_mtx = [tox_data.corr()]\n",
    "\n",
    "high_vars = []\n",
    "#le cada uma das corr_mtx e conta o numero de dados acima de um threshold\n",
    "for data in corr_mtx:\n",
    "    for i in range(len(data)):\n",
    "        for j in range(len(data)):\n",
    "            if data.iat[i,j] < -0.75 or data.iat[i,j] > 0.75 and data.iat[i,j] != 1:\n",
    "                high_vars.append(j) if j not in high_vars else high_vars\n",
    "\n",
    "high_vars_str = [str(i+1) for i in high_vars]\n",
    "c=0\n",
    "for column in high_vars_str:\n",
    "    del tox_data[column]\n",
    "    c = c+1\n",
    "print(c)"
   ]
  },
  {
   "cell_type": "code",
   "execution_count": 37,
   "metadata": {},
   "outputs": [],
   "source": [
    "tox_data.to_csv(r'C:\\Users\\jocam\\OneDrive\\Documentos\\Data Science IST\\CD databases\\toxicity_reduced.csv', index = False)\n"
   ]
  },
  {
   "cell_type": "code",
   "execution_count": 39,
   "metadata": {},
   "outputs": [
    {
     "data": {
      "text/plain": [
       "(8992, 881)"
      ]
     },
     "execution_count": 39,
     "metadata": {},
     "output_type": "execute_result"
    }
   ],
   "source": [
    "tox_data.shape"
   ]
  }
 ],
 "metadata": {
  "kernelspec": {
   "display_name": "Python 3",
   "language": "python",
   "name": "python3"
  },
  "language_info": {
   "codemirror_mode": {
    "name": "ipython",
    "version": 3
   },
   "file_extension": ".py",
   "mimetype": "text/x-python",
   "name": "python",
   "nbconvert_exporter": "python",
   "pygments_lexer": "ipython3",
   "version": "3.7.4"
  }
 },
 "nbformat": 4,
 "nbformat_minor": 2
}

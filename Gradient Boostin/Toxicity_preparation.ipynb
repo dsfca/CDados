{
 "cells": [
  {
   "cell_type": "code",
   "execution_count": 1,
   "metadata": {},
   "outputs": [
    {
     "name": "stderr",
     "output_type": "stream",
     "text": [
      "Using TensorFlow backend.\n"
     ]
    }
   ],
   "source": [
    "import numpy as np\n",
    "import pandas as pd\n",
    "import matplotlib.pyplot as plt\n",
    "from sklearn.model_selection import train_test_split\n",
    "import sklearn.metrics as metrics\n",
    "from sklearn.ensemble import GradientBoostingClassifier\n",
    "from imblearn.over_sampling import SMOTE\n",
    "from imblearn.over_sampling import RandomOverSampler\n",
    "from imblearn.under_sampling import RandomUnderSampler\n",
    "from imblearn.under_sampling import NearMiss\n",
    "from sklearn.feature_selection import SelectKBest, chi2\n",
    "from sklearn.feature_selection import VarianceThreshold\n",
    "import sys\n",
    "sys.path.append(\"../\")\n",
    "from Modules import ds_functions as ds"
   ]
  },
  {
   "cell_type": "markdown",
   "metadata": {},
   "source": [
    "### No missing values, outliers or scaling necessary"
   ]
  },
  {
   "cell_type": "markdown",
   "metadata": {},
   "source": [
    "## Balancing"
   ]
  },
  {
   "cell_type": "code",
   "execution_count": 2,
   "metadata": {},
   "outputs": [
    {
     "data": {
      "image/png": "[encoded data removed]",
      "text/plain": [
       "<Figure size 1440x288 with 5 Axes>"
      ]
     },
     "metadata": {
      "needs_background": "light"
     },
     "output_type": "display_data"
    }
   ],
   "source": [
    "data: pd.DataFrame = pd.read_csv('../CD databases/qsar_oral_toxicity.csv')\n",
    "y: np.ndarray = data.pop('classification').values\n",
    "X: np.ndarray = data.values\n",
    "labels = pd.unique(y)\n",
    "\n",
    "trnX, tstX, trnY, tstY = train_test_split(X, y, train_size=0.7, stratify=y)\n",
    "trnX1, trnY1 = trnX, trnY\n",
    "\n",
    "clf = GradientBoostingClassifier(n_estimators=300, max_depth=25, learning_rate=0.7)\n",
    "\n",
    "nm = NearMiss()\n",
    "rus = RandomUnderSampler(random_state=42)\n",
    "sm = SMOTE(random_state=42)\n",
    "ros = RandomOverSampler(random_state=42)\n",
    "\n",
    "values = []\n",
    "titles = ['Original Dataset', 'Near Miss', 'RandomUnderSampler', 'SMOTE', 'RandomOverSampler']\n",
    "samp = [nm, rus, sm, ros, ros]\n",
    "\n",
    "for i in range(5):\n",
    "    clf.fit(trnX1, trnY1)\n",
    "    prd_trn = clf.predict(trnX1)\n",
    "    prd_tst = clf.predict(tstX)\n",
    "    \n",
    "    values.append([trnY1, prd_trn, tstY, prd_tst, titles[i]])\n",
    "    \n",
    "    trnX1, trnY1 = samp[i].fit_resample(trnX, trnY)\n",
    "    \n",
    "ds.plot_compare_results(pd.unique(y), values, len(values))"
   ]
  },
  {
   "cell_type": "markdown",
   "metadata": {},
   "source": [
    "## Feature Selection"
   ]
  },
  {
   "cell_type": "markdown",
   "metadata": {},
   "source": [
    "### Variance"
   ]
  },
  {
   "cell_type": "code",
   "execution_count": null,
   "metadata": {},
   "outputs": [],
   "source": [
    "data: pd.DataFrame = pd.read_csv('../CD databases/qsar_oral_toxicity.csv')\n",
    "y: np.ndarray = data.pop('classification').values\n",
    "X: np.ndarray = data.values\n",
    "labels = pd.unique(y)\n",
    "\n",
    "clf = GradientBoostingClassifier(n_estimators=300, max_depth=25, learning_rate=0.7)\n",
    "\n",
    "X_values = []\n",
    "\n",
    "X_values.append(X)\n",
    "th = VarianceThreshold(threshold=0.02)\n",
    "X_values.append(th.fit_transform(data))\n",
    "th = VarianceThreshold(threshold=0.05)\n",
    "X_values.append(th.fit_transform(data))\n",
    "th = VarianceThreshold(threshold=0.1)\n",
    "X_values.append(th.fit_transform(data))\n",
    "th = VarianceThreshold(threshold=0.15)\n",
    "X_values.append(th.fit_transform(data))\n",
    "th = VarianceThreshold(threshold=0.2)\n",
    "X_values.append(th.fit_transform(data))\n",
    "\n",
    "values = []\n",
    "titles = ['Original Dataset', '<0.02 (862 vars)', '<0.05 (426 vars)', '<0.1 (202 vars)', '<0.15 (124 vars)', '<0.2 (73 vars)']\n",
    "\n",
    "for i in range(6):\n",
    "    trnX, tstX, trnY, tstY = train_test_split(X_values[i], y, train_size=0.7, stratify=y)\n",
    "    \n",
    "    clf.fit(trnX, trnY)\n",
    "    prd_trn = clf.predict(trnX)\n",
    "    prd_tst = clf.predict(tstX)\n",
    "\n",
    "    values.append([trnY, prd_trn, tstY, prd_tst, titles[i]])\n",
    "    \n",
    "ds.plot_compare_results(pd.unique(y), values, len(values))"
   ]
  },
  {
   "cell_type": "markdown",
   "metadata": {},
   "source": [
    "### Chi Square"
   ]
  },
  {
   "cell_type": "code",
   "execution_count": null,
   "metadata": {},
   "outputs": [],
   "source": [
    "data: pd.DataFrame = pd.read_csv('../CD databases/qsar_oral_toxicity.csv')\n",
    "y: np.ndarray = data.pop('classification').values\n",
    "X: np.ndarray = data.values\n",
    "labels = pd.unique(y)\n",
    "\n",
    "clf = GradientBoostingClassifier(n_estimators=300, max_depth=25, learning_rate=0.7)\n",
    "\n",
    "X_values = []\n",
    "\n",
    "X_values.append(X)\n",
    "Best_vars = SelectKBest(chi2, k=900).fit_transform(X, y)\n",
    "X_values.append(Best_vars)\n",
    "Best_vars = SelectKBest(chi2, k=500).fit_transform(X, y)\n",
    "X_values.append(Best_vars)\n",
    "Best_vars = SelectKBest(chi2, k=200).fit_transform(X, y)\n",
    "X_values.append(Best_vars)\n",
    "Best_vars = SelectKBest(chi2, k=100).fit_transform(X, y)\n",
    "X_values.append(Best_vars)\n",
    "Best_vars = SelectKBest(chi2, k=50).fit_transform(X, y)\n",
    "X_values.append(Best_vars)\n",
    "\n",
    "values = []\n",
    "titles = ['Original Dataset', '900', '500', '200', '100', '50']\n",
    "\n",
    "for i in range(6):\n",
    "    trnX, tstX, trnY, tstY = train_test_split(X_values[i], y, train_size=0.7, stratify=y)\n",
    "    \n",
    "    clf.fit(trnX, trnY)\n",
    "    prd_trn = clf.predict(trnX)\n",
    "    prd_tst = clf.predict(tstX)\n",
    "\n",
    "    values.append([trnY, prd_trn, tstY, prd_tst, titles[i]])\n",
    "    \n",
    "ds.plot_compare_results(pd.unique(y), values, len(values))"
   ]
  },
  {
   "cell_type": "markdown",
   "metadata": {},
   "source": [
    "### Correlation Coeficient"
   ]
  },
  {
   "cell_type": "code",
   "execution_count": null,
   "metadata": {},
   "outputs": [],
   "source": [
    "clf = GradientBoostingClassifier(n_estimators=300, max_depth=25, learning_rate=0.7)\n",
    "\n",
    "values = []\n",
    "\n",
    "data: pd.DataFrame = pd.read_csv('../CD databases/qsar_oral_toxicity.csv')\n",
    "y: np.ndarray = data.pop('classification').values\n",
    "X: np.ndarray = data.values\n",
    "labels = pd.unique(y)\n",
    "\n",
    "trnX, tstX, trnY, tstY = train_test_split(X, y, train_size=0.7, stratify=y)\n",
    "\n",
    "clf.fit(trnX, trnY)\n",
    "prd_trn = clf.predict(trnX)\n",
    "prd_tst = clf.predict(tstX)\n",
    "\n",
    "values.append([trnY, prd_trn, tstY, prd_tst, 'Original Dataset'])\n",
    "\n",
    "data: pd.DataFrame = pd.read_csv('../CD databases/toxicity_reduced.csv')\n",
    "y: np.ndarray = data.pop('classification').values\n",
    "X: np.ndarray = data.values\n",
    "labels = pd.unique(y)\n",
    "\n",
    "trnX, tstX, trnY, tstY = train_test_split(X, y, train_size=0.7, stratify=y)\n",
    "\n",
    "clf.fit(trnX, trnY)\n",
    "prd_trn = clf.predict(trnX)\n",
    "prd_tst = clf.predict(tstX)\n",
    "\n",
    "values.append([trnY, prd_trn, tstY, prd_tst, 'Reduced Dataset (0.75)'])\n",
    "\n",
    "ds.plot_compare_results(pd.unique(y), values, len(values))"
   ]
  },
  {
   "cell_type": "markdown",
   "metadata": {},
   "source": [
    "## Balance and feature select"
   ]
  },
  {
   "cell_type": "code",
   "execution_count": null,
   "metadata": {},
   "outputs": [],
   "source": [
    "data: pd.DataFrame = pd.read_csv('../CD databases/qsar_oral_toxicity.csv')\n",
    "y: np.ndarray = data.pop('classification').values\n",
    "X: np.ndarray = data.values\n",
    "labels = pd.unique(y)\n",
    "clf = GradientBoostingClassifier(n_estimators=300, max_depth=25, learning_rate=0.7)\n",
    "values = []\n",
    "\n",
    "trnX, tstX, trnY, tstY = train_test_split(X, y, train_size=0.7, stratify=y)\n",
    "\n",
    "clf.fit(trnX, trnY)\n",
    "prd_trn = clf.predict(trnX)\n",
    "prd_tst = clf.predict(tstX)\n",
    "\n",
    "values.append([trnY, prd_trn, tstY, prd_tst, 'Original Dataset'])\n",
    "\n",
    "X_values = []\n",
    "Best_vars = SelectKBest(chi2, k=50).fit_transform(X, y)\n",
    "X_values.append(Best_vars)\n",
    "best_vars = SelectKBest(chi2, k=200).fit_transform(X, y)\n",
    "X_values.append(Best_vars)\n",
    "\n",
    "rus = RandomUnderSampler(random_state=42)\n",
    "ros = RandomOverSampler(random_state=42)\n",
    "\n",
    "titles = ['RUS x 50vars', 'RUS x 200vars', 'ROS x 50 vars', 'ROS x 200 vars']\n",
    "samp = [rus, ros]\n",
    "\n",
    "for i in range(2):\n",
    "    for X_var in X_values:\n",
    "        trnX, tstX, trnY, tstY = train_test_split(X_var, y, train_size=0.7, stratify=y)\n",
    "\n",
    "        trnX, trnY = samp[i].fit_resample(trnX, trnY)\n",
    "        \n",
    "        clf.fit(trnX, trnY)\n",
    "        prd_trn = clf.predict(trnX)\n",
    "        prd_tst = clf.predict(tstX)\n",
    "\n",
    "        values.append([trnY, prd_trn, tstY, prd_tst, titles[i]])\n",
    "    \n",
    "ds.plot_compare_results(pd.unique(y), values, len(values))"
   ]
  },
  {
   "cell_type": "markdown",
   "metadata": {},
   "source": [
    "## Balance and feature select (reduced database)"
   ]
  },
  {
   "cell_type": "code",
   "execution_count": null,
   "metadata": {},
   "outputs": [],
   "source": [
    "data: pd.DataFrame = pd.read_csv('../CD databases/toxicity_reduced.csv')\n",
    "y: np.ndarray = data.pop('classification').values\n",
    "X: np.ndarray = data.values\n",
    "labels = pd.unique(y)\n",
    "clf = GradientBoostingClassifier(n_estimators=300, max_depth=25, learning_rate=0.7)\n",
    "values = []\n",
    "\n",
    "trnX, tstX, trnY, tstY = train_test_split(X, y, train_size=0.7, stratify=y)\n",
    "\n",
    "clf.fit(trnX, trnY)\n",
    "prd_trn = clf.predict(trnX)\n",
    "prd_tst = clf.predict(tstX)\n",
    "\n",
    "values.append([trnY, prd_trn, tstY, prd_tst, 'Reduced Dataset (0.75)'])\n",
    "\n",
    "X_values = []\n",
    "Best_vars = SelectKBest(chi2, k=50).fit_transform(X, y)\n",
    "X_values.append(Best_vars)\n",
    "best_vars = SelectKBest(chi2, k=200).fit_transform(X, y)\n",
    "X_values.append(Best_vars)\n",
    "\n",
    "rus = RandomUnderSampler(random_state=42)\n",
    "ros = RandomOverSampler(random_state=42)\n",
    "\n",
    "titles = ['RUS x 50vars', 'RUS x 200vars', 'ROS x 50 vars', 'ROS x 200 vars']\n",
    "samp = [rus, ros]\n",
    "\n",
    "for i in range(2):\n",
    "    for X_var in X_values:\n",
    "        trnX, tstX, trnY, tstY = train_test_split(X_var, y, train_size=0.7, stratify=y)\n",
    "\n",
    "        trnX, trnY = samp[i].fit_resample(trnX, trnY)\n",
    "        \n",
    "        clf.fit(trnX, trnY)\n",
    "        prd_trn = clf.predict(trnX)\n",
    "        prd_tst = clf.predict(tstX)\n",
    "\n",
    "        values.append([trnY, prd_trn, tstY, prd_tst, titles[i]])\n",
    "    \n",
    "ds.plot_compare_results(pd.unique(y), values, len(values))"
   ]
  }
 ],
 "metadata": {
  "kernelspec": {
   "display_name": "Python 3",
   "language": "python",
   "name": "python3"
  },
  "language_info": {
   "codemirror_mode": {
    "name": "ipython",
    "version": 3
   },
   "file_extension": ".py",
   "mimetype": "text/x-python",
   "name": "python",
   "nbconvert_exporter": "python",
   "pygments_lexer": "ipython3",
   "version": "3.7.4"
  }
 },
 "nbformat": 4,
 "nbformat_minor": 2
}

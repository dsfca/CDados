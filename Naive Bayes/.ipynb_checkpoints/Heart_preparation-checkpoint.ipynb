{
 "cells": [
  {
   "cell_type": "code",
   "execution_count": 1,
   "metadata": {
    "scrolled": true
   },
   "outputs": [
    {
     "name": "stderr",
     "output_type": "stream",
     "text": [
      "Using TensorFlow backend.\n"
     ]
    }
   ],
   "source": [
    "import numpy as np\n",
    "import pandas as pd\n",
    "import matplotlib.pyplot as plt\n",
    "from sklearn.model_selection import train_test_split\n",
    "import sklearn.metrics as metrics\n",
    "from sklearn.naive_bayes import GaussianNB\n",
    "from sklearn.model_selection import StratifiedKFold\n",
    "from imblearn.over_sampling import SMOTE\n",
    "from imblearn.over_sampling import RandomOverSampler\n",
    "from imblearn.under_sampling import RandomUnderSampler\n",
    "from imblearn.under_sampling import NearMiss\n",
    "from sklearn.feature_selection import SelectKBest, chi2\n",
    "from sklearn.feature_selection import VarianceThreshold\n",
    "import sys\n",
    "sys.path.append(\"../\")\n",
    "from Modules import ds_functions as ds"
   ]
  },
  {
   "cell_type": "markdown",
   "metadata": {},
   "source": [
    "### No missing values or outliers"
   ]
  },
  {
   "cell_type": "markdown",
   "metadata": {},
   "source": [
    "## Scaling"
   ]
  },
  {
   "cell_type": "code",
   "execution_count": 2,
   "metadata": {},
   "outputs": [],
   "source": [
    "from sklearn.preprocessing import StandardScaler\n",
    "import pandas as pd\n",
    "\n",
    "data: pd.DataFrame = pd.read_csv('../CD databases/heart_failure_clinical_records_dataset.csv')\n",
    "y: np.ndarray = data.pop('DEATH_EVENT').values\n",
    "X: np.ndarray = data.values\n",
    "labels = pd.unique(y)\n",
    "\n",
    "sc = StandardScaler()\n",
    "X = sc.fit_transform(X)"
   ]
  },
  {
   "cell_type": "markdown",
   "metadata": {},
   "source": [
    "## Balancing"
   ]
  },
  {
   "cell_type": "code",
   "execution_count": 3,
   "metadata": {},
   "outputs": [
    {
     "ename": "NameError",
     "evalue": "name 'best' is not defined",
     "output_type": "error",
     "traceback": [
      "\u001b[1;31m---------------------------------------------------------------------------\u001b[0m",
      "\u001b[1;31mNameError\u001b[0m                                 Traceback (most recent call last)",
      "\u001b[1;32m<ipython-input-3-cf30a61554f0>\u001b[0m in \u001b[0;36m<module>\u001b[1;34m\u001b[0m\n\u001b[0;32m     18\u001b[0m \u001b[1;33m\u001b[0m\u001b[0m\n\u001b[0;32m     19\u001b[0m     \u001b[0mvalues\u001b[0m\u001b[1;33m.\u001b[0m\u001b[0mappend\u001b[0m\u001b[1;33m(\u001b[0m\u001b[1;33m[\u001b[0m\u001b[0mtrnY1\u001b[0m\u001b[1;33m,\u001b[0m \u001b[0mprd_trn\u001b[0m\u001b[1;33m,\u001b[0m \u001b[0mtstY\u001b[0m\u001b[1;33m,\u001b[0m \u001b[0mprd_tst\u001b[0m\u001b[1;33m,\u001b[0m \u001b[0mtitles\u001b[0m\u001b[1;33m[\u001b[0m\u001b[0mi\u001b[0m\u001b[1;33m]\u001b[0m\u001b[1;33m]\u001b[0m\u001b[1;33m)\u001b[0m\u001b[1;33m\u001b[0m\u001b[1;33m\u001b[0m\u001b[0m\n\u001b[1;32m---> 20\u001b[1;33m     \u001b[1;32mif\u001b[0m \u001b[0mbest\u001b[0m\u001b[1;33m[\u001b[0m\u001b[1;36m0\u001b[0m\u001b[1;33m]\u001b[0m \u001b[1;33m<\u001b[0m \u001b[0mmetrics\u001b[0m\u001b[1;33m.\u001b[0m\u001b[0maccuracy_score\u001b[0m\u001b[1;33m(\u001b[0m\u001b[0mtstY\u001b[0m\u001b[1;33m,\u001b[0m \u001b[0mprd_tst\u001b[0m\u001b[1;33m)\u001b[0m\u001b[1;33m:\u001b[0m\u001b[1;33m\u001b[0m\u001b[1;33m\u001b[0m\u001b[0m\n\u001b[0m\u001b[0;32m     21\u001b[0m         \u001b[0mbest\u001b[0m\u001b[1;33m[\u001b[0m\u001b[1;36m0\u001b[0m\u001b[1;33m]\u001b[0m \u001b[1;33m=\u001b[0m \u001b[0mmetrics\u001b[0m\u001b[1;33m.\u001b[0m\u001b[0maccuracy_score\u001b[0m\u001b[1;33m(\u001b[0m\u001b[0mtstY\u001b[0m\u001b[1;33m,\u001b[0m \u001b[0mprd_tst\u001b[0m\u001b[1;33m)\u001b[0m\u001b[1;33m\u001b[0m\u001b[1;33m\u001b[0m\u001b[0m\n\u001b[0;32m     22\u001b[0m         \u001b[0mbest\u001b[0m\u001b[1;33m[\u001b[0m\u001b[1;36m1\u001b[0m\u001b[1;33m]\u001b[0m \u001b[1;33m=\u001b[0m \u001b[0mtitles\u001b[0m\u001b[1;33m[\u001b[0m\u001b[0mi\u001b[0m\u001b[1;33m]\u001b[0m\u001b[1;33m\u001b[0m\u001b[1;33m\u001b[0m\u001b[0m\n",
      "\u001b[1;31mNameError\u001b[0m: name 'best' is not defined"
     ]
    }
   ],
   "source": [
    "trnX, tstX, trnY, tstY = train_test_split(X, y, train_size=0.7, stratify=y)\n",
    "trnX1, trnY1 = trnX, trnY\n",
    "\n",
    "clf = GaussianNB()\n",
    "nm = NearMiss()\n",
    "rus = RandomUnderSampler(random_state=42)\n",
    "sm = SMOTE(random_state=42)\n",
    "ros = RandomOverSampler(random_state=42)\n",
    "\n",
    "best = [0,0]\n",
    "values = []\n",
    "titles = ['Original Dataset', 'Near Miss', 'RandomUnderSampler', 'SMOTE', 'RandomOverSampler']\n",
    "samp = [nm, rus, sm, ros, ros]\n",
    "\n",
    "for i in range(5):\n",
    "    clf.fit(trnX1, trnY1)\n",
    "    prd_trn = clf.predict(trnX1)\n",
    "    prd_tst = clf.predict(tstX)\n",
    "    \n",
    "    values.append([trnY1, prd_trn, tstY, prd_tst, titles[i]])\n",
    "    if best[0] < metrics.accuracy_score(tstY, prd_tst):\n",
    "        best[0] = metrics.accuracy_score(tstY, prd_tst)\n",
    "        best[1] = titles[i]\n",
    "    \n",
    "    trnX1, trnY1 = samp[i].fit_resample(trnX, trnY)\n",
    "    \n",
    "print ('Best accuracy: %1.2f ' %(best[0]), 'with ', best[1])\n",
    "ds.plot_compare_results(pd.unique(y), values, len(values))"
   ]
  },
  {
   "cell_type": "markdown",
   "metadata": {},
   "source": [
    "## Feature Selecting"
   ]
  },
  {
   "cell_type": "code",
   "execution_count": 5,
   "metadata": {},
   "outputs": [
    {
     "data": {
      "image/png": "[encoded data removed]",
      "text/plain": [
       "<Figure size 1152x288 with 4 Axes>"
      ]
     },
     "metadata": {
      "needs_background": "light"
     },
     "output_type": "display_data"
    }
   ],
   "source": [
    "data: pd.DataFrame = pd.read_csv('../CD databases/heart_failure_clinical_records_dataset.csv')\n",
    "y: np.ndarray = data.pop('DEATH_EVENT').values\n",
    "X: np.ndarray = data.values\n",
    "labels = pd.unique(y)\n",
    "\n",
    "clf = GaussianNB()\n",
    "\n",
    "X_best_vars_5 = SelectKBest(chi2, k=5).fit_transform(X, y)\n",
    "X_best_vars_8 = SelectKBest(chi2, k=8).fit_transform(X, y)\n",
    "\n",
    "th = VarianceThreshold(threshold=0.8)\n",
    "X_high_variance = th.fit_transform(data)\n",
    "\n",
    "best = [0,0]\n",
    "values = []\n",
    "titles = ['Original Dataset', 'Chi-square(5)', 'Chi-square(8)', 'Variance Threshold']\n",
    "X_values = [X, X_best_vars_5, X_best_vars_8, X_high_variance]\n",
    "\n",
    "for i in range(4):\n",
    "    trnX, tstX, trnY, tstY = train_test_split(X_values[i], y, train_size=0.7, stratify=y)\n",
    "    \n",
    "    clf.fit(trnX, trnY)\n",
    "    prd_trn = clf.predict(trnX)\n",
    "    prd_tst = clf.predict(tstX)\n",
    "    \n",
    "    values.append([trnY, prd_trn, tstY, prd_tst, titles[i]])\n",
    "    if best[0] < metrics.accuracy_score(tstY, prd_tst):\n",
    "        best[0] = metrics.accuracy_score(tstY, prd_tst)\n",
    "        best[1] = titles[i]\n",
    "    \n",
    "print ('Best accuracy: %1.2f ' %(best[0]), 'with ', best[1])\n",
    "ds.plot_compare_results(pd.unique(y), values, len(values))"
   ]
  },
  {
   "cell_type": "markdown",
   "metadata": {},
   "source": [
    "## Balance & feature select (chi-square & RandomOverSampler)"
   ]
  },
  {
   "cell_type": "code",
   "execution_count": 9,
   "metadata": {},
   "outputs": [
    {
     "data": {
      "image/png": "[encoded data removed]",
      "text/plain": [
       "<Figure size 864x288 with 3 Axes>"
      ]
     },
     "metadata": {
      "needs_background": "light"
     },
     "output_type": "display_data"
    }
   ],
   "source": [
    "data: pd.DataFrame = pd.read_csv('../CD databases/heart_failure_clinical_records_dataset.csv')\n",
    "y: np.ndarray = data.pop('DEATH_EVENT').values\n",
    "X: np.ndarray = data.values\n",
    "labels = pd.unique(y)\n",
    "\n",
    "X_best_vars_5 = SelectKBest(chi2, k=5).fit_transform(X, y)\n",
    "trnX, tstX, trnY, tstY = train_test_split(X, y, train_size=0.7, stratify=y)\n",
    "\n",
    "\n",
    "clf = GaussianNB()\n",
    "sm = SMOTE(random_state=42)\n",
    "ros = RandomOverSampler(random_state=42)\n",
    "\n",
    "best = [0,0]\n",
    "values = []\n",
    "titles = ['Original Dataset', 'SMOTE vs chi-sq(5)', 'RandomOverSampler vs chi-sq(5)']\n",
    "samp = [sm, ros, ros]\n",
    "\n",
    "for i in range(3):\n",
    "    clf.fit(trnX, trnY)\n",
    "    prd_trn = clf.predict(trnX)\n",
    "    prd_tst = clf.predict(tstX)\n",
    "    \n",
    "    values.append([trnY, prd_trn, tstY, prd_tst, titles[i]])\n",
    "    if best[0] < metrics.accuracy_score(tstY, prd_tst):\n",
    "        best[0] = metrics.accuracy_score(tstY, prd_tst)\n",
    "        best[1] = titles[i]\n",
    "    \n",
    "    trnX, tstX, trnY, tstY = train_test_split(X_best_vars_5, y, train_size=0.7, stratify=y)\n",
    "    \n",
    "    trnX, trnY = samp[i].fit_resample(trnX, trnY)\n",
    "\n",
    "print ('Best accuracy: %1.2f ' %(best[0]), 'with ', best[1])\n",
    "ds.plot_compare_results(pd.unique(y), values, len(values))"
   ]
  },
  {
   "cell_type": "markdown",
   "metadata": {},
   "source": [
    "### Aqui era interessante uma ROC curve"
   ]
  }
 ],
 "metadata": {
  "kernelspec": {
   "display_name": "Python 3",
   "language": "python",
   "name": "python3"
  },
  "language_info": {
   "codemirror_mode": {
    "name": "ipython",
    "version": 3
   },
   "file_extension": ".py",
   "mimetype": "text/x-python",
   "name": "python",
   "nbconvert_exporter": "python",
   "pygments_lexer": "ipython3",
   "version": "3.7.4"
  }
 },
 "nbformat": 4,
 "nbformat_minor": 2
}

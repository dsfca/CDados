{
 "cells": [
  {
   "cell_type": "code",
   "execution_count": 1,
   "metadata": {},
   "outputs": [
    {
     "data": {
      "text/plain": [
       "<Figure size 640x480 with 0 Axes>"
      ]
     },
     "metadata": {},
     "output_type": "display_data"
    },
    {
     "data": {
      "text/plain": [
       "<Figure size 1200x400 with 3 Axes>"
      ]
     },
     "metadata": {},
     "output_type": "display_data"
    },
    {
     "name": "stdout",
     "output_type": "stream",
     "text": [
      "Best results with depth=5, 0.70 features and 50 estimators, with accuracy=0.86\n"
     ]
    }
   ],
   "source": [
    "import numpy as np\n",
    "import pandas as pd\n",
    "import matplotlib.pyplot as plt\n",
    "from sklearn.model_selection import train_test_split\n",
    "import sklearn.metrics as metrics\n",
    "from sklearn.ensemble import RandomForestClassifier\n",
    "import sys\n",
    "sys.path.append(\"../\")\n",
    "from Modules import ds_functions as ds\n",
    "\n",
    "data: pd.DataFrame = pd.read_csv('../CD databases/heart_failure_clinical_records_dataset.csv')\n",
    "y: np.ndarray = data.pop('DEATH_EVENT').values\n",
    "X: np.ndarray = data.values\n",
    "labels = pd.unique(y)\n",
    "\n",
    "trnX, tstX, trnY, tstY = train_test_split(X, y, train_size=0.7, stratify=y)\n",
    "\n",
    "n_estimators = [5, 10, 25, 50, 75, 100, 150, 200, 250, 300]\n",
    "max_depths = [5, 10, 25]\n",
    "max_features = [.1, .3, .5, .7, .9, 1]\n",
    "best = ('', 0, 0)\n",
    "last_best = 0\n",
    "best_tree = None\n",
    "\n",
    "cols = len(max_depths)\n",
    "plt.figure()\n",
    "fig, axs = plt.subplots(1, cols, figsize=(cols*ds.HEIGHT, ds.HEIGHT), squeeze=False)\n",
    "for k in range(len(max_depths)):\n",
    "    d = max_depths[k]\n",
    "    values = {}\n",
    "    for f in max_features:\n",
    "        yvalues = []\n",
    "        for n in n_estimators:\n",
    "            rf = RandomForestClassifier(n_estimators=n, max_depth=d, max_features=f)\n",
    "            rf.fit(trnX, trnY)\n",
    "            prdY = rf.predict(tstX)\n",
    "            yvalues.append(metrics.accuracy_score(tstY, prdY))\n",
    "            if yvalues[-1] > last_best:\n",
    "                best = (d, f, n)\n",
    "                last_best = yvalues[-1]\n",
    "                best_tree = rf\n",
    "\n",
    "        values[f] = yvalues\n",
    "    ds.multiple_line_chart(n_estimators, values, ax=axs[0, k], title='Random Forests with max_depth=%d'%d,\n",
    "                           xlabel='nr estimators', ylabel='accuracy', percentage=True)\n",
    "\n",
    "plt.show()\n",
    "print('Best results with depth=%d, %1.2f features and %d estimators, with accuracy=%1.2f'%(best[0], best[1], best[2], last_best))"
   ]
  },
  {
   "cell_type": "code",
   "execution_count": 2,
   "metadata": {},
   "outputs": [
    {
     "data": {
      "image/png": "[encoded data removed]",
      "text/plain": [
       "<Figure size 576x288 with 2 Axes>"
      ]
     },
     "metadata": {
      "needs_background": "light"
     },
     "output_type": "display_data"
    }
   ],
   "source": [
    "prd_trn = best_tree.predict(trnX)\n",
    "prd_tst = best_tree.predict(tstX)\n",
    "ds.plot_evaluation_results(pd.unique(y), trnY, prd_trn, tstY, prd_tst)"
   ]
  }
 ],
 "metadata": {
  "kernelspec": {
   "display_name": "Python 3",
   "language": "python",
   "name": "python3"
  },
  "language_info": {
   "codemirror_mode": {
    "name": "ipython",
    "version": 3
   },
   "file_extension": ".py",
   "mimetype": "text/x-python",
   "name": "python",
   "nbconvert_exporter": "python",
   "pygments_lexer": "ipython3",
   "version": "3.7.4"
  }
 },
 "nbformat": 4,
 "nbformat_minor": 2
}
